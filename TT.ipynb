{
 "cells": [
  {
   "cell_type": "markdown",
   "metadata": {},
   "source": [
    "### Titanic"
   ]
  },
  {
   "cell_type": "code",
   "execution_count": 1,
   "metadata": {
    "collapsed": false,
    "scrolled": true
   },
   "outputs": [],
   "source": [
    "from sklearn import svm\n",
    "from sklearn.ensemble import *\n",
    "from sklearn.neural_network import MLPClassifier\n",
    "from sklearn.preprocessing import StandardScaler \n",
    "import pandas as pd"
   ]
  },
  {
   "cell_type": "markdown",
   "metadata": {},
   "source": [
    "##### Wczytanie danych"
   ]
  },
  {
   "cell_type": "code",
   "execution_count": 2,
   "metadata": {
    "collapsed": false
   },
   "outputs": [],
   "source": [
    "#train = pd.read_csv('train.csv',sep=',',header=0)\n",
    "#test = pd.read_csv('test.csv',sep=',',header=0)\n",
    "data = pd.read_csv('titanic.csv',sep=';',header=0)"
   ]
  },
  {
   "cell_type": "markdown",
   "metadata": {},
   "source": [
    "##### Preprocessing"
   ]
  },
  {
   "cell_type": "code",
   "execution_count": 3,
   "metadata": {
    "collapsed": false
   },
   "outputs": [],
   "source": [
    "def preprocess(dataset):\n",
    "    dataset['Family'] = dataset['sibsp'] + dataset['parch']\n",
    "    dataset['SexID'] = (dataset['sex'] == 'male').astype(int)\n",
    "    dataset.replace(to_replace = {'embarked': {'Q': 0}}, inplace=True)\n",
    "    dataset.replace(to_replace = {'embarked': {'S': 1}}, inplace=True)\n",
    "    dataset.replace(to_replace = {'embarked': {'C': 2}}, inplace=True)\n",
    "    dataset['age'].fillna(dataset['age'].median(skipna=1), inplace=True)\n",
    "    dataset['ClassAge']=dataset['pclass'] * dataset['age']\n",
    "    dataset.drop(['sibsp', 'parch', 'sex', 'cabin', 'name', 'ticket','body','home.dest','boat'], axis = 1, inplace = True)\n",
    "    dataset = dataset.fillna(0)\n",
    "    return dataset"
   ]
  },
  {
   "cell_type": "code",
   "execution_count": 4,
   "metadata": {
    "collapsed": false
   },
   "outputs": [],
   "source": [
    "data = preprocess(data)\n",
    "train=data.sample(frac=0.8,random_state=200)\n",
    "test=data.drop(train.index)"
   ]
  },
  {
   "cell_type": "code",
   "execution_count": 5,
   "metadata": {
    "collapsed": false
   },
   "outputs": [],
   "source": [
    "train_y = train['survived']\n",
    "train_x = train.drop(['survived'], axis = 1)\n",
    "test_y = test['survived']\n",
    "test_x = test.drop(['survived'], axis = 1)"
   ]
  },
  {
   "cell_type": "markdown",
   "metadata": {},
   "source": [
    "##### Standaryzacja"
   ]
  },
  {
   "cell_type": "code",
   "execution_count": 6,
   "metadata": {
    "collapsed": false
   },
   "outputs": [],
   "source": [
    "scaler = StandardScaler()\n",
    "scaler.fit(train_x)\n",
    "train_x = scaler.transform(train_x)\n",
    "test_x = scaler.transform(test_x)"
   ]
  },
  {
   "cell_type": "markdown",
   "metadata": {},
   "source": [
    "##### NN"
   ]
  },
  {
   "cell_type": "code",
   "execution_count": 7,
   "metadata": {
    "collapsed": false
   },
   "outputs": [],
   "source": [
    "clf = MLPClassifier(hidden_layer_sizes = (50,), \n",
    "                    solver = 'lbfgs',\n",
    "                    activation = 'tanh', \n",
    "                    alpha = 0.1, \n",
    "                    max_iter = 500,\n",
    "                    verbose = False)"
   ]
  },
  {
   "cell_type": "code",
   "execution_count": 8,
   "metadata": {
    "collapsed": false
   },
   "outputs": [
    {
     "name": "stdout",
     "output_type": "stream",
     "text": [
      "0.908396946565\n",
      "0.820610687023\n"
     ]
    }
   ],
   "source": [
    "clf.fit(train_x, train_y)\n",
    "print(clf.score(train_x,train_y))\n",
    "print(clf.score(test_x,test_y))"
   ]
  },
  {
   "cell_type": "markdown",
   "metadata": {
    "collapsed": false
   },
   "source": [
    "##### SVM"
   ]
  },
  {
   "cell_type": "code",
   "execution_count": 9,
   "metadata": {
    "collapsed": false
   },
   "outputs": [
    {
     "name": "stdout",
     "output_type": "stream",
     "text": [
      "0.826335877863\n",
      "0.851145038168\n"
     ]
    }
   ],
   "source": [
    "clf2 = svm.SVC(cache_size = 1000,\n",
    "               C=0.8,\n",
    "               gamma = 0.6\n",
    "                );\n",
    "clf2.fit(train_x,train_y)\n",
    "print(clf2.score(train_x,train_y))\n",
    "print(clf2.score(test_x,test_y))"
   ]
  },
  {
   "cell_type": "markdown",
   "metadata": {},
   "source": [
    "##### Random Forest"
   ]
  },
  {
   "cell_type": "code",
   "execution_count": 10,
   "metadata": {
    "collapsed": false
   },
   "outputs": [
    {
     "name": "stdout",
     "output_type": "stream",
     "text": [
      "0.945610687023\n",
      "0.839694656489\n"
     ]
    }
   ],
   "source": [
    "clf3 = RandomForestClassifier(max_features=\"auto\",\n",
    "                             min_samples_leaf = 1,\n",
    "                             n_jobs = 1)\n",
    "clf3.fit(train_x,train_y)\n",
    "print(clf3.score(train_x,train_y))\n",
    "print(clf3.score(test_x,test_y))"
   ]
  },
  {
   "cell_type": "code",
   "execution_count": 11,
   "metadata": {
    "collapsed": false
   },
   "outputs": [
    {
     "name": "stdout",
     "output_type": "stream",
     "text": [
      "0.81106870229\n",
      "0.858778625954\n"
     ]
    }
   ],
   "source": [
    "clf4 = AdaBoostClassifier(learning_rate=1.5)\n",
    "clf4.fit(train_x,train_y)\n",
    "print(clf4.score(train_x,train_y))\n",
    "print(clf4.score(test_x,test_y))"
   ]
  },
  {
   "cell_type": "code",
   "execution_count": 12,
   "metadata": {
    "collapsed": false
   },
   "outputs": [
    {
     "name": "stdout",
     "output_type": "stream",
     "text": [
      "0.962786259542\n",
      "0.832061068702\n"
     ]
    }
   ],
   "source": [
    "clf5 = ExtraTreesClassifier()\n",
    "clf5.fit(train_x,train_y)\n",
    "print(clf5.score(train_x,train_y))\n",
    "print(clf5.score(test_x,test_y))"
   ]
  },
  {
   "cell_type": "code",
   "execution_count": 13,
   "metadata": {
    "collapsed": false
   },
   "outputs": [
    {
     "name": "stdout",
     "output_type": "stream",
     "text": [
      "0.919847328244\n",
      "0.847328244275\n"
     ]
    }
   ],
   "source": [
    "clf6 = GradientBoostingClassifier(learning_rate=0.3,\n",
    "                                 )\n",
    "clf6.fit(train_x,train_y)\n",
    "print(clf6.score(train_x,train_y))\n",
    "print(clf6.score(test_x,test_y))"
   ]
  }
 ],
 "metadata": {
  "anaconda-cloud": {},
  "kernelspec": {
   "display_name": "Python [conda root]",
   "language": "python",
   "name": "conda-root-py"
  },
  "language_info": {
   "codemirror_mode": {
    "name": "ipython",
    "version": 3
   },
   "file_extension": ".py",
   "mimetype": "text/x-python",
   "name": "python",
   "nbconvert_exporter": "python",
   "pygments_lexer": "ipython3",
   "version": "3.5.2"
  }
 },
 "nbformat": 4,
 "nbformat_minor": 0
}
